{
 "cells": [
  {
   "cell_type": "code",
   "execution_count": 1,
   "id": "9bd1fcd7-635e-49b3-b1f7-e15d48bb5de0",
   "metadata": {
    "tags": []
   },
   "outputs": [],
   "source": [
    "from pyspark.sql import SparkSession\n",
    "from pyspark.sql.types import IntegerType\n",
    "from pyspark.sql.functions import sum, desc, max"
   ]
  },
  {
   "cell_type": "code",
   "execution_count": 2,
   "id": "29ab593e-47f3-4f29-bff6-f9c72ea88363",
   "metadata": {
    "tags": []
   },
   "outputs": [
    {
     "name": "stderr",
     "output_type": "stream",
     "text": [
      "23/05/16 09:23:40 WARN Utils: Your hostname, all-MS-7D35 resolves to a loopback address: 127.0.1.1; using 192.168.1.151 instead (on interface enp2s0)\n",
      "23/05/16 09:23:40 WARN Utils: Set SPARK_LOCAL_IP if you need to bind to another address\n",
      "Setting default log level to \"WARN\".\n",
      "To adjust logging level use sc.setLogLevel(newLevel). For SparkR, use setLogLevel(newLevel).\n",
      "23/05/16 09:23:41 WARN NativeCodeLoader: Unable to load native-hadoop library for your platform... using builtin-java classes where applicable\n",
      "23/05/16 09:23:41 WARN Utils: Service 'SparkUI' could not bind on port 4040. Attempting port 4041.\n",
      "23/05/16 09:23:41 WARN Utils: Service 'SparkUI' could not bind on port 4041. Attempting port 4042.\n"
     ]
    }
   ],
   "source": [
    "scSpark = SparkSession.builder.appName(\"Spark Example\").getOrCreate()"
   ]
  },
  {
   "cell_type": "markdown",
   "id": "57ee4273-1aff-491f-a51a-9772f2676707",
   "metadata": {},
   "source": [
    "loading all the data reuired to do the tasks."
   ]
  },
  {
   "cell_type": "code",
   "execution_count": 3,
   "id": "153f105a-97e3-4e5c-b02d-6ec322a472bb",
   "metadata": {
    "tags": []
   },
   "outputs": [],
   "source": [
    "transactions_data = scSpark.read.csv(\"./data/store_transactions/transactions_*.csv\", header=True)\n",
    "products_data = scSpark.read.csv(\"./data/products.csv\", header=True)\n",
    "customers_data = scSpark.read.csv(\"./data/customers.csv\", header=True)"
   ]
  },
  {
   "cell_type": "markdown",
   "id": "58ff8800-484c-4a5d-b8bf-613d6f1d8502",
   "metadata": {},
   "source": [
    "Showing data to see columns and all the necessary things to perform the tasks."
   ]
  },
  {
   "cell_type": "code",
   "execution_count": 4,
   "id": "e3f20b03-e7a4-459c-b5cf-bcd651a09a24",
   "metadata": {
    "tags": []
   },
   "outputs": [
    {
     "name": "stdout",
     "output_type": "stream",
     "text": [
      "+-------+-------------+----------+---------+--------+-------------------+\n",
      "|StoreId|TransactionId|CustomerId|ProductId|Quantity|    TransactionTime|\n",
      "+-------+-------------+----------+---------+--------+-------------------+\n",
      "|      3|          454|        35|        3|       3|2022-12-23 17:36:11|\n",
      "|      3|          524|        37|        9|      11|2022-12-23 22:02:51|\n",
      "|      3|          562|         4|        3|       4|2022-12-23 02:51:50|\n",
      "|      3|          581|        35|       14|      56|2022-12-23 17:05:54|\n",
      "|      3|          200|        34|       15|      24|2022-12-23 07:15:01|\n",
      "|      3|          506|        41|       24|      19|2022-12-23 21:26:29|\n",
      "|      3|          278|         5|        1|       5|2022-12-23 16:41:42|\n",
      "|      3|          849|        36|       23|      13|2022-12-23 13:22:55|\n",
      "|      3|          992|        34|        7|       3|2022-12-23 16:47:14|\n",
      "|      3|          703|        19|        7|      13|2022-12-23 22:36:48|\n",
      "|      3|          719|        48|       18|      12|2022-12-23 10:11:29|\n",
      "|      3|          526|        13|       14|       3|2022-12-23 11:57:23|\n",
      "|      3|          997|        20|        1|      14|2022-12-23 04:02:30|\n",
      "|      3|          281|        11|       15|      25|2022-12-23 16:07:45|\n",
      "|      3|          691|        48|       23|       2|2022-12-23 08:12:00|\n",
      "|      3|          762|        17|        5|      26|2022-12-23 16:18:27|\n",
      "|      3|          106|        24|       23|      11|2022-12-23 07:41:50|\n",
      "|      3|           21|        32|        9|       2|2022-12-23 21:15:10|\n",
      "|      3|          626|        14|       18|      14|2022-12-23 12:55:02|\n",
      "|      3|          219|        11|       15|       5|2022-12-23 13:00:17|\n",
      "+-------+-------------+----------+---------+--------+-------------------+\n",
      "only showing top 20 rows\n",
      "\n"
     ]
    }
   ],
   "source": [
    "transactions_data.show()"
   ]
  },
  {
   "cell_type": "code",
   "execution_count": 5,
   "id": "6ebb6e9a-b627-45e1-ab28-4af885a3d6f0",
   "metadata": {
    "tags": []
   },
   "outputs": [
    {
     "name": "stdout",
     "output_type": "stream",
     "text": [
      "+---------+--------------+----------+---------+\n",
      "|ProductId|          Name|  Category|UnitPrice|\n",
      "+---------+--------------+----------+---------+\n",
      "|        1|    Red Shorts|    Shorts|    89.75|\n",
      "|        2|  White Shorts|    Shorts|    89.27|\n",
      "|        3|   Blue Shorts|    Shorts|   118.88|\n",
      "|        4|  Green Shorts|    Shorts|   121.43|\n",
      "|        5|  Black Shorts|    Shorts|    74.58|\n",
      "|        6|   Red Sandals|     Shoes|   138.38|\n",
      "|        7| White Sandals|     Shoes|   160.96|\n",
      "|        8| Blue Sneakers|     Shoes|    111.7|\n",
      "|        9| Green Sandals|     Shoes|   137.53|\n",
      "|       10|Black Sneakers|     Shoes|   146.41|\n",
      "|       11|         Watch|Accesories|   179.65|\n",
      "|       12|      Bracelet|Accesories|   160.77|\n",
      "|       13|      Earrings|Accesories|    185.9|\n",
      "|       14|   Red t-shirt|  T-Shirts|   121.58|\n",
      "|       15| White t-shirt|  T-Shirts|   131.13|\n",
      "|       16|  Blue t-shirt|  T-Shirts|   140.68|\n",
      "|       17| Green t-shirt|  T-Shirts|   130.13|\n",
      "|       18| Black t-shirt|  T-Shirts|   102.41|\n",
      "|       19|  Green jacket|   Jackets|   223.69|\n",
      "|       20|  Black jacket|   Jackets|   190.01|\n",
      "+---------+--------------+----------+---------+\n",
      "only showing top 20 rows\n",
      "\n"
     ]
    }
   ],
   "source": [
    "products_data.show()"
   ]
  },
  {
   "cell_type": "code",
   "execution_count": 6,
   "id": "969bf87e-057a-45b8-abc9-e2dfb0c56588",
   "metadata": {
    "tags": []
   },
   "outputs": [
    {
     "name": "stdout",
     "output_type": "stream",
     "text": [
      "+----------+--------------------+--------------------+\n",
      "|CustomerId|                Name|               Email|\n",
      "+----------+--------------------+--------------------+\n",
      "|         1|      Emilia Pedraza|emilia.pedraza@ex...|\n",
      "|         2|        Thies Blümel|thies.blumel@exam...|\n",
      "|         3|       بهاره علیزاده|bhrh.aalyzdh@exam...|\n",
      "|         4|       Alevtin Paska|alevtin.paska@exa...|\n",
      "|         5|      Charlotte Wong|charlotte.wong@ex...|\n",
      "|         6|     Vittorio Bonnet|vittorio.bonnet@e...|\n",
      "|         7|          Dominic Lo|dominic.lo@exampl...|\n",
      "|         8|        كيان علیزاده|kyn.aalyzdh@examp...|\n",
      "|         9|       Babür Çörekçi|babur.corekci@exa...|\n",
      "|        10|          تینا یاسمی|tyn.ysmy@example.com|\n",
      "|        11|    Angélique Vennix|angelique.vennix@...|\n",
      "|        12|           Eric King|eric.king@example...|\n",
      "|        13|      Elizabeth Neal|elizabeth.neal@ex...|\n",
      "|        14|      Sylvie Lecomte|sylvie.lecomte@ex...|\n",
      "|        15|           An Jansen|an.jansen@example...|\n",
      "|        16|      Signe Petersen|signe.petersen@ex...|\n",
      "|        17|Sevastiana Nester...|sevastiana.nester...|\n",
      "|        18|          Kiara Brun|kiara.brun@exampl...|\n",
      "|        19|       Alexia Renaud|alexia.renaud@exa...|\n",
      "|        20|         Suzy Gibson|suzy.gibson@examp...|\n",
      "+----------+--------------------+--------------------+\n",
      "only showing top 20 rows\n",
      "\n"
     ]
    }
   ],
   "source": [
    "customers_data.show()"
   ]
  },
  {
   "cell_type": "markdown",
   "id": "8a2bbb62-f8f2-46f1-9059-fb553a2373a5",
   "metadata": {},
   "source": [
    "# Task 1 : What are the daily total sales for the store with id 1?"
   ]
  },
  {
   "cell_type": "markdown",
   "id": "af816108-b135-40d9-9cf3-8cfee9bfa0c9",
   "metadata": {
    "tags": []
   },
   "source": [
    "joining store one data with the products data."
   ]
  },
  {
   "cell_type": "code",
   "execution_count": 7,
   "id": "6b1baaa5-66c0-4291-9b6d-f46c47176a6a",
   "metadata": {
    "tags": []
   },
   "outputs": [],
   "source": [
    "store1_data = transactions_data.filter(transactions_data[\"StoreId\"] == 1)"
   ]
  },
  {
   "cell_type": "code",
   "execution_count": 8,
   "id": "0b81aae0-9e15-4e0a-a257-bce93672cbf5",
   "metadata": {
    "tags": []
   },
   "outputs": [],
   "source": [
    "joined_data = store1_data.join(products_data, store1_data.ProductId == products_data.ProductId)"
   ]
  },
  {
   "cell_type": "code",
   "execution_count": 9,
   "id": "3564d6cb-2c51-4751-85be-33e45494ab52",
   "metadata": {
    "tags": []
   },
   "outputs": [
    {
     "name": "stdout",
     "output_type": "stream",
     "text": [
      "+-------+-------------+----------+---------+--------+-------------------+---------+--------------+----------+---------+\n",
      "|StoreId|TransactionId|CustomerId|ProductId|Quantity|    TransactionTime|ProductId|          Name|  Category|UnitPrice|\n",
      "+-------+-------------+----------+---------+--------+-------------------+---------+--------------+----------+---------+\n",
      "|      1|          971|        13|        2|      10|2022-12-23 04:13:05|        2|  White Shorts|    Shorts|    89.27|\n",
      "|      1|          605|         7|       10|       5|2022-12-23 09:36:22|       10|Black Sneakers|     Shoes|   146.41|\n",
      "|      1|          567|        37|        2|       8|2022-12-23 19:44:43|        2|  White Shorts|    Shorts|    89.27|\n",
      "|      1|          607|        38|        5|       4|2022-12-23 04:36:41|        5|  Black Shorts|    Shorts|    74.58|\n",
      "|      1|          141|        17|        9|       7|2022-12-23 19:11:29|        9| Green Sandals|     Shoes|   137.53|\n",
      "|      1|          248|        17|       11|      12|2022-12-23 06:27:58|       11|         Watch|Accesories|   179.65|\n",
      "|      1|          726|        45|        4|      13|2022-12-23 14:12:34|        4|  Green Shorts|    Shorts|   121.43|\n",
      "|      1|          725|         4|        9|       1|2022-12-23 12:15:47|        9| Green Sandals|     Shoes|   137.53|\n",
      "|      1|          232|        30|       10|       9|2022-12-23 01:26:10|       10|Black Sneakers|     Shoes|   146.41|\n",
      "|      1|          954|        47|        6|      14|2022-12-23 06:45:59|        6|   Red Sandals|     Shoes|   138.38|\n",
      "|      1|           38|         2|        5|       3|2022-12-23 10:19:48|        5|  Black Shorts|    Shorts|    74.58|\n",
      "|      1|          701|         3|        3|      11|2022-12-23 13:22:38|        3|   Blue Shorts|    Shorts|   118.88|\n",
      "|      1|          783|        49|        7|       8|2022-12-23 18:00:04|        7| White Sandals|     Shoes|   160.96|\n",
      "|      1|          333|        23|        8|       9|2022-12-23 20:18:44|        8| Blue Sneakers|     Shoes|    111.7|\n",
      "|      1|          482|         1|       11|       2|2022-12-23 09:05:36|       11|         Watch|Accesories|   179.65|\n",
      "|      1|          286|        35|        1|      12|2022-12-23 01:23:31|        1|    Red Shorts|    Shorts|    89.75|\n",
      "|      1|          734|        43|        5|       1|2022-12-23 23:58:16|        5|  Black Shorts|    Shorts|    74.58|\n",
      "|      1|           20|         1|        3|       2|2022-12-23 05:18:30|        3|   Blue Shorts|    Shorts|   118.88|\n",
      "|      1|          203|        18|        6|      10|2022-12-23 23:35:44|        6|   Red Sandals|     Shoes|   138.38|\n",
      "|      1|          924|        30|        5|       4|2022-12-23 11:35:46|        5|  Black Shorts|    Shorts|    74.58|\n",
      "+-------+-------------+----------+---------+--------+-------------------+---------+--------------+----------+---------+\n",
      "only showing top 20 rows\n",
      "\n"
     ]
    }
   ],
   "source": [
    "joined_data.show()"
   ]
  },
  {
   "cell_type": "markdown",
   "id": "c45004df-6b95-41a8-a9b1-1bea6b9676f9",
   "metadata": {
    "tags": []
   },
   "source": [
    "finding total price of each sales by multiplying unit price with quantity."
   ]
  },
  {
   "cell_type": "code",
   "execution_count": 10,
   "id": "41512f93-2a67-4315-aacb-f858ebcc2efb",
   "metadata": {
    "tags": []
   },
   "outputs": [],
   "source": [
    "joined_data = joined_data.withColumn(\"TotalPrice\", joined_data[\"Quantity\"] * joined_data[\"UnitPrice\"])"
   ]
  },
  {
   "cell_type": "code",
   "execution_count": 11,
   "id": "139d0958-d0c8-40df-80f6-4fd1dbf40ed1",
   "metadata": {
    "tags": []
   },
   "outputs": [
    {
     "name": "stdout",
     "output_type": "stream",
     "text": [
      "+-------+-------------+----------+---------+--------+-------------------+---------+--------------+----------+---------+------------------+\n",
      "|StoreId|TransactionId|CustomerId|ProductId|Quantity|    TransactionTime|ProductId|          Name|  Category|UnitPrice|        TotalPrice|\n",
      "+-------+-------------+----------+---------+--------+-------------------+---------+--------------+----------+---------+------------------+\n",
      "|      1|          971|        13|        2|      10|2022-12-23 04:13:05|        2|  White Shorts|    Shorts|    89.27| 892.6999999999999|\n",
      "|      1|          605|         7|       10|       5|2022-12-23 09:36:22|       10|Black Sneakers|     Shoes|   146.41|            732.05|\n",
      "|      1|          567|        37|        2|       8|2022-12-23 19:44:43|        2|  White Shorts|    Shorts|    89.27|            714.16|\n",
      "|      1|          607|        38|        5|       4|2022-12-23 04:36:41|        5|  Black Shorts|    Shorts|    74.58|            298.32|\n",
      "|      1|          141|        17|        9|       7|2022-12-23 19:11:29|        9| Green Sandals|     Shoes|   137.53|            962.71|\n",
      "|      1|          248|        17|       11|      12|2022-12-23 06:27:58|       11|         Watch|Accesories|   179.65|            2155.8|\n",
      "|      1|          726|        45|        4|      13|2022-12-23 14:12:34|        4|  Green Shorts|    Shorts|   121.43|1578.5900000000001|\n",
      "|      1|          725|         4|        9|       1|2022-12-23 12:15:47|        9| Green Sandals|     Shoes|   137.53|            137.53|\n",
      "|      1|          232|        30|       10|       9|2022-12-23 01:26:10|       10|Black Sneakers|     Shoes|   146.41|           1317.69|\n",
      "|      1|          954|        47|        6|      14|2022-12-23 06:45:59|        6|   Red Sandals|     Shoes|   138.38|           1937.32|\n",
      "|      1|           38|         2|        5|       3|2022-12-23 10:19:48|        5|  Black Shorts|    Shorts|    74.58|            223.74|\n",
      "|      1|          701|         3|        3|      11|2022-12-23 13:22:38|        3|   Blue Shorts|    Shorts|   118.88|1307.6799999999998|\n",
      "|      1|          783|        49|        7|       8|2022-12-23 18:00:04|        7| White Sandals|     Shoes|   160.96|           1287.68|\n",
      "|      1|          333|        23|        8|       9|2022-12-23 20:18:44|        8| Blue Sneakers|     Shoes|    111.7|1005.3000000000001|\n",
      "|      1|          482|         1|       11|       2|2022-12-23 09:05:36|       11|         Watch|Accesories|   179.65|             359.3|\n",
      "|      1|          286|        35|        1|      12|2022-12-23 01:23:31|        1|    Red Shorts|    Shorts|    89.75|            1077.0|\n",
      "|      1|          734|        43|        5|       1|2022-12-23 23:58:16|        5|  Black Shorts|    Shorts|    74.58|             74.58|\n",
      "|      1|           20|         1|        3|       2|2022-12-23 05:18:30|        3|   Blue Shorts|    Shorts|   118.88|            237.76|\n",
      "|      1|          203|        18|        6|      10|2022-12-23 23:35:44|        6|   Red Sandals|     Shoes|   138.38|            1383.8|\n",
      "|      1|          924|        30|        5|       4|2022-12-23 11:35:46|        5|  Black Shorts|    Shorts|    74.58|            298.32|\n",
      "+-------+-------------+----------+---------+--------+-------------------+---------+--------------+----------+---------+------------------+\n",
      "only showing top 20 rows\n",
      "\n"
     ]
    }
   ],
   "source": [
    "joined_data.show()"
   ]
  },
  {
   "cell_type": "markdown",
   "id": "123b95ca-3b64-4f0b-a892-9972ba1d3cea",
   "metadata": {
    "tags": []
   },
   "source": [
    "Casting the values so we can add them together."
   ]
  },
  {
   "cell_type": "code",
   "execution_count": 12,
   "id": "23d3f158-1ee7-4055-ba4d-a3104f665ad0",
   "metadata": {
    "tags": []
   },
   "outputs": [],
   "source": [
    "joined_data = joined_data.withColumn(\n",
    "    \"TotalPrice\", joined_data[\"TotalPrice\"].cast(IntegerType())\n",
    ")"
   ]
  },
  {
   "cell_type": "code",
   "execution_count": 13,
   "id": "e971327a-992c-4820-b262-20251577b52b",
   "metadata": {
    "tags": []
   },
   "outputs": [],
   "source": [
    "store1_Totalsum = joined_data.select(sum(\"TotalPrice\")).collect()[0][0]"
   ]
  },
  {
   "cell_type": "code",
   "execution_count": 14,
   "id": "f5c61e92-5413-47cb-8056-6e344f28c2fc",
   "metadata": {
    "tags": []
   },
   "outputs": [
    {
     "name": "stdout",
     "output_type": "stream",
     "text": [
      "The daily total sales for the store with id 1 is :  41239\n"
     ]
    }
   ],
   "source": [
    "print(\"The daily total sales for the store with id 1 is : \",store1_Totalsum)"
   ]
  },
  {
   "cell_type": "markdown",
   "id": "6b820dc3-305e-406a-914d-a12ef07cb300",
   "metadata": {},
   "source": [
    "# Task 2 : What are the mean sales for the store with id 2?"
   ]
  },
  {
   "cell_type": "markdown",
   "id": "57ae3064-37b3-4c1b-a9de-bebc87edd623",
   "metadata": {},
   "source": [
    "joining store one data with the products data."
   ]
  },
  {
   "cell_type": "code",
   "execution_count": 15,
   "id": "f5b70cbc-e252-4561-b1b2-878164695d4e",
   "metadata": {
    "tags": []
   },
   "outputs": [],
   "source": [
    "store2_data = transactions_data.filter(transactions_data[\"StoreId\"] == 2)"
   ]
  },
  {
   "cell_type": "code",
   "execution_count": 16,
   "id": "3b452dae-0a6e-4144-9421-699192d77fae",
   "metadata": {
    "tags": []
   },
   "outputs": [],
   "source": [
    "joined_data = store2_data.join(products_data, store2_data.ProductId == products_data.ProductId)"
   ]
  },
  {
   "cell_type": "markdown",
   "id": "078d92fd-81a7-4abb-a249-8efeb665f1a2",
   "metadata": {},
   "source": [
    "finding total price of each sales by multiplying unit price with quantity."
   ]
  },
  {
   "cell_type": "code",
   "execution_count": 17,
   "id": "d8c7d1cc-b89d-4b03-86c5-a53a7c8eb512",
   "metadata": {
    "tags": []
   },
   "outputs": [
    {
     "name": "stdout",
     "output_type": "stream",
     "text": [
      "+-------+-------------+----------+---------+--------+-------------------+---------+-------------+----------+---------+------------------+\n",
      "|StoreId|TransactionId|CustomerId|ProductId|Quantity|    TransactionTime|ProductId|         Name|  Category|UnitPrice|        TotalPrice|\n",
      "+-------+-------------+----------+---------+--------+-------------------+---------+-------------+----------+---------+------------------+\n",
      "|      2|            2|         2|        2|       2|2022-12-23 18:49:45|        2| White Shorts|    Shorts|    89.27|            178.54|\n",
      "|      2|            2|         2|        2|       2|2022-12-23 13:19:51|        2| White Shorts|    Shorts|    89.27|            178.54|\n",
      "|      2|            2|         2|        2|       2|2022-12-23 22:39:21|        2| White Shorts|    Shorts|    89.27|            178.54|\n",
      "|      2|          514|        14|       21|       5|2022-12-23 00:24:15|       21|   Red Chinos|     Pants|   134.42| 672.0999999999999|\n",
      "|      2|          363|        44|       16|       2|2022-12-23 10:46:04|       16| Blue t-shirt|  T-Shirts|   140.68|            281.36|\n",
      "|      2|          773|        47|       19|       6|2022-12-23 22:18:53|       19| Green jacket|   Jackets|   223.69|1342.1399999999999|\n",
      "|      2|          822|        39|       15|       6|2022-12-23 02:39:02|       15|White t-shirt|  T-Shirts|   131.13|            786.78|\n",
      "|      2|            2|         2|        2|       2|2022-12-23 15:34:54|        2| White Shorts|    Shorts|    89.27|            178.54|\n",
      "|      2|            2|         2|        2|       2|2022-12-23 08:35:19|        2| White Shorts|    Shorts|    89.27|            178.54|\n",
      "|      2|          227|        42|       16|       5|2022-12-23 19:58:57|       16| Blue t-shirt|  T-Shirts|   140.68| 703.4000000000001|\n",
      "|      2|            2|         2|        2|       2|2022-12-23 02:23:41|        2| White Shorts|    Shorts|    89.27|            178.54|\n",
      "|      2|            2|         2|        2|       2|2022-12-23 21:49:12|        2| White Shorts|    Shorts|    89.27|            178.54|\n",
      "|      2|            2|         2|        2|       2|2022-12-23 18:30:51|        2| White Shorts|    Shorts|    89.27|            178.54|\n",
      "|      2|          372|        42|       14|       3|2022-12-23 19:25:27|       14|  Red t-shirt|  T-Shirts|   121.58|            364.74|\n",
      "|      2|          713|        17|       25|       3|2022-12-23 19:27:14|       25|  Black Jeans|     Pants|   129.72|389.15999999999997|\n",
      "|      2|          846|         1|       16|       4|2022-12-23 05:09:24|       16| Blue t-shirt|  T-Shirts|   140.68|            562.72|\n",
      "|      2|          969|        17|       13|       4|2022-12-23 03:22:26|       13|     Earrings|Accesories|    185.9|             743.6|\n",
      "|      2|          694|        28|       17|       5|2022-12-23 21:56:11|       17|Green t-shirt|  T-Shirts|   130.13|            650.65|\n",
      "|      2|          269|        28|       18|       1|2022-12-23 21:34:17|       18|Black t-shirt|  T-Shirts|   102.41|            102.41|\n",
      "|      2|           67|        12|       19|       2|2022-12-23 16:38:56|       19| Green jacket|   Jackets|   223.69|            447.38|\n",
      "+-------+-------------+----------+---------+--------+-------------------+---------+-------------+----------+---------+------------------+\n",
      "only showing top 20 rows\n",
      "\n"
     ]
    }
   ],
   "source": [
    "joined_data = joined_data.withColumn(\"TotalPrice\", joined_data[\"Quantity\"] * joined_data[\"UnitPrice\"])\n",
    "joined_data.show()"
   ]
  },
  {
   "cell_type": "markdown",
   "id": "593bf27d-5761-47be-ae04-0f324c73a95f",
   "metadata": {},
   "source": [
    "finding mean."
   ]
  },
  {
   "cell_type": "markdown",
   "id": "df3ddf3f-e612-4a8c-9b5a-bbdaae7856f4",
   "metadata": {
    "tags": []
   },
   "source": [
    "store2_mean = joined_data.agg({'TotalPrice': 'mean'}).show()\n",
    "store2_mean"
   ]
  },
  {
   "cell_type": "markdown",
   "id": "4bffcc6f-75fb-4474-b54d-a563efe78f90",
   "metadata": {
    "tags": []
   },
   "source": [
    "### The mean sales for the store with id 2 is \"513.45\""
   ]
  },
  {
   "cell_type": "markdown",
   "id": "765a9301-e888-4feb-a493-99bb93d81358",
   "metadata": {},
   "source": [
    "# Task 3 : What is the email of the client who spent the most when summing up purchases from all of the stores?"
   ]
  },
  {
   "cell_type": "markdown",
   "id": "d91ee921-345c-42de-a517-52a198761547",
   "metadata": {
    "tags": []
   },
   "source": [
    "combining all data."
   ]
  },
  {
   "cell_type": "code",
   "execution_count": 18,
   "id": "a013b63b-9ddc-48bb-a9c6-7335b6aa8543",
   "metadata": {
    "tags": []
   },
   "outputs": [],
   "source": [
    "combined__alldata_table= customers_data.join(transactions_data, \"CustomerId\").join(products_data, \"ProductId\")\n",
    "combined__alldata_table = combined__alldata_table.withColumn(\"TotalPrice\", joined_data[\"Quantity\"] * joined_data[\"UnitPrice\"])"
   ]
  },
  {
   "cell_type": "code",
   "execution_count": 19,
   "id": "2d512192-6da9-443e-9123-5b0d3556f50e",
   "metadata": {
    "tags": []
   },
   "outputs": [
    {
     "name": "stdout",
     "output_type": "stream",
     "text": [
      "+---------+----------+--------------------+--------------------+-------+-------------+--------+-------------------+-------------+--------+---------+------------------+\n",
      "|ProductId|CustomerId|                Name|               Email|StoreId|TransactionId|Quantity|    TransactionTime|         Name|Category|UnitPrice|        TotalPrice|\n",
      "+---------+----------+--------------------+--------------------+-------+-------------+--------+-------------------+-------------+--------+---------+------------------+\n",
      "|        3|        35|      Dwayne Johnson|dwayne.johnson@gm...|      3|          454|       3|2022-12-23 17:36:11|  Blue Shorts|  Shorts|   118.88|            356.64|\n",
      "|        9|        37|       Brittany Holt|brittany.holt@exa...|      3|          524|      11|2022-12-23 22:02:51|Green Sandals|   Shoes|   137.53|           1512.83|\n",
      "|        3|         4|       Alevtin Paska|alevtin.paska@exa...|      3|          562|       4|2022-12-23 02:51:50|  Blue Shorts|  Shorts|   118.88|            475.52|\n",
      "|       14|        35|      Dwayne Johnson|dwayne.johnson@gm...|      3|          581|      56|2022-12-23 17:05:54|  Red t-shirt|T-Shirts|   121.58|           6808.48|\n",
      "|       15|        34|            Avi Shet|avi.shet@example.com|      3|          200|      24|2022-12-23 07:15:01|White t-shirt|T-Shirts|   131.13|           3147.12|\n",
      "|       24|        41|         Alice Morin|alice.morin@examp...|      3|          506|      19|2022-12-23 21:26:29|   Blue Jeans|   Pants|    173.1|            3288.9|\n",
      "|        1|         5|      Charlotte Wong|charlotte.wong@ex...|      3|          278|       5|2022-12-23 16:41:42|   Red Shorts|  Shorts|    89.75|            448.75|\n",
      "|       23|        36|     William Nielsen|william.nielsen@e...|      3|          849|      13|2022-12-23 13:22:55| Green Chinos|   Pants|   150.93|1962.0900000000001|\n",
      "|        7|        34|            Avi Shet|avi.shet@example.com|      3|          992|       3|2022-12-23 16:47:14|White Sandals|   Shoes|   160.96|            482.88|\n",
      "|        7|        19|       Alexia Renaud|alexia.renaud@exa...|      3|          703|      13|2022-12-23 22:36:48|White Sandals|   Shoes|   160.96|           2092.48|\n",
      "|       18|        48|        Amoli Shenoy|amoli.shenoy@exam...|      3|          719|      12|2022-12-23 10:11:29|Black t-shirt|T-Shirts|   102.41|           1228.92|\n",
      "|       14|        13|      Elizabeth Neal|elizabeth.neal@ex...|      3|          526|       3|2022-12-23 11:57:23|  Red t-shirt|T-Shirts|   121.58|            364.74|\n",
      "|        1|        20|         Suzy Gibson|suzy.gibson@examp...|      3|          997|      14|2022-12-23 04:02:30|   Red Shorts|  Shorts|    89.75|            1256.5|\n",
      "|       15|        11|    Angélique Vennix|angelique.vennix@...|      3|          281|      25|2022-12-23 16:07:45|White t-shirt|T-Shirts|   131.13|           3278.25|\n",
      "|       23|        48|        Amoli Shenoy|amoli.shenoy@exam...|      3|          691|       2|2022-12-23 08:12:00| Green Chinos|   Pants|   150.93|            301.86|\n",
      "|        5|        17|Sevastiana Nester...|sevastiana.nester...|      3|          762|      26|2022-12-23 16:18:27| Black Shorts|  Shorts|    74.58|           1939.08|\n",
      "|       23|        24|         Bernd Colin|bernd.colin@examp...|      3|          106|      11|2022-12-23 07:41:50| Green Chinos|   Pants|   150.93|           1660.23|\n",
      "|        9|        32|        Ethan Little|ethan.little@exam...|      3|           21|       2|2022-12-23 21:15:10|Green Sandals|   Shoes|   137.53|            275.06|\n",
      "|       18|        14|      Sylvie Lecomte|sylvie.lecomte@ex...|      3|          626|      14|2022-12-23 12:55:02|Black t-shirt|T-Shirts|   102.41|           1433.74|\n",
      "|       15|        11|    Angélique Vennix|angelique.vennix@...|      3|          219|       5|2022-12-23 13:00:17|White t-shirt|T-Shirts|   131.13|            655.65|\n",
      "+---------+----------+--------------------+--------------------+-------+-------------+--------+-------------------+-------------+--------+---------+------------------+\n",
      "only showing top 20 rows\n",
      "\n"
     ]
    }
   ],
   "source": [
    "combined__alldata_table.show()"
   ]
  },
  {
   "cell_type": "markdown",
   "id": "a37a7664-ae9f-4a43-ab26-5f00aab0c662",
   "metadata": {},
   "source": [
    "finding top buyers."
   ]
  },
  {
   "cell_type": "code",
   "execution_count": 20,
   "id": "b1453a4a-0238-464f-bfe2-815ab88bf7d5",
   "metadata": {},
   "outputs": [],
   "source": [
    "top_buyers = combined__alldata_table.groupBy(\"CustomerId\").agg(sum(\"TotalPrice\").alias(\"TotalValue\"))"
   ]
  },
  {
   "cell_type": "code",
   "execution_count": 21,
   "id": "64b1d8bc-db0a-4f9f-a32a-e94675079422",
   "metadata": {
    "tags": []
   },
   "outputs": [],
   "source": [
    "combined__alldata_table= combined__alldata_table.join(top_buyers)"
   ]
  },
  {
   "cell_type": "code",
   "execution_count": 22,
   "id": "bd0f6008-40e1-4c3f-a42e-61971ac7d728",
   "metadata": {
    "tags": []
   },
   "outputs": [
    {
     "name": "stdout",
     "output_type": "stream",
     "text": [
      "+------------------------+\n",
      "|Email                   |\n",
      "+------------------------+\n",
      "|dwayne.johnson@gmail.com|\n",
      "+------------------------+\n",
      "only showing top 1 row\n",
      "\n"
     ]
    }
   ],
   "source": [
    "combined__alldata_table.select(\"Email\").show(1,truncate=False)"
   ]
  },
  {
   "cell_type": "markdown",
   "id": "69c12ad4-ebe8-4d5d-b073-fdb474dc9d8f",
   "metadata": {},
   "source": [
    "### The email of the client who spent the most when summing up purchases from all of the stores is \"dwayne.johnson@gmail.com\""
   ]
  },
  {
   "cell_type": "markdown",
   "id": "9670be2b-20b5-4251-a603-be6c13f7296b",
   "metadata": {
    "tags": []
   },
   "source": [
    "# Task 4"
   ]
  },
  {
   "cell_type": "code",
   "execution_count": 23,
   "id": "342d33b8-ca3b-483d-9bf3-318713bef51e",
   "metadata": {
    "tags": []
   },
   "outputs": [],
   "source": [
    "storedata_with_products_data= products_data.join(transactions_data, \"ProductId\")"
   ]
  },
  {
   "cell_type": "code",
   "execution_count": 24,
   "id": "e697e5fd-7977-4fcf-968d-bdc69b01b866",
   "metadata": {
    "tags": []
   },
   "outputs": [
    {
     "name": "stdout",
     "output_type": "stream",
     "text": [
      "+---------+-------------+--------+---------+-------+-------------+----------+--------+-------------------+\n",
      "|ProductId|         Name|Category|UnitPrice|StoreId|TransactionId|CustomerId|Quantity|    TransactionTime|\n",
      "+---------+-------------+--------+---------+-------+-------------+----------+--------+-------------------+\n",
      "|        3|  Blue Shorts|  Shorts|   118.88|      3|          454|        35|       3|2022-12-23 17:36:11|\n",
      "|        9|Green Sandals|   Shoes|   137.53|      3|          524|        37|      11|2022-12-23 22:02:51|\n",
      "|        3|  Blue Shorts|  Shorts|   118.88|      3|          562|         4|       4|2022-12-23 02:51:50|\n",
      "|       14|  Red t-shirt|T-Shirts|   121.58|      3|          581|        35|      56|2022-12-23 17:05:54|\n",
      "|       15|White t-shirt|T-Shirts|   131.13|      3|          200|        34|      24|2022-12-23 07:15:01|\n",
      "|       24|   Blue Jeans|   Pants|    173.1|      3|          506|        41|      19|2022-12-23 21:26:29|\n",
      "|        1|   Red Shorts|  Shorts|    89.75|      3|          278|         5|       5|2022-12-23 16:41:42|\n",
      "|       23| Green Chinos|   Pants|   150.93|      3|          849|        36|      13|2022-12-23 13:22:55|\n",
      "|        7|White Sandals|   Shoes|   160.96|      3|          992|        34|       3|2022-12-23 16:47:14|\n",
      "|        7|White Sandals|   Shoes|   160.96|      3|          703|        19|      13|2022-12-23 22:36:48|\n",
      "|       18|Black t-shirt|T-Shirts|   102.41|      3|          719|        48|      12|2022-12-23 10:11:29|\n",
      "|       14|  Red t-shirt|T-Shirts|   121.58|      3|          526|        13|       3|2022-12-23 11:57:23|\n",
      "|        1|   Red Shorts|  Shorts|    89.75|      3|          997|        20|      14|2022-12-23 04:02:30|\n",
      "|       15|White t-shirt|T-Shirts|   131.13|      3|          281|        11|      25|2022-12-23 16:07:45|\n",
      "|       23| Green Chinos|   Pants|   150.93|      3|          691|        48|       2|2022-12-23 08:12:00|\n",
      "|        5| Black Shorts|  Shorts|    74.58|      3|          762|        17|      26|2022-12-23 16:18:27|\n",
      "|       23| Green Chinos|   Pants|   150.93|      3|          106|        24|      11|2022-12-23 07:41:50|\n",
      "|        9|Green Sandals|   Shoes|   137.53|      3|           21|        32|       2|2022-12-23 21:15:10|\n",
      "|       18|Black t-shirt|T-Shirts|   102.41|      3|          626|        14|      14|2022-12-23 12:55:02|\n",
      "|       15|White t-shirt|T-Shirts|   131.13|      3|          219|        11|       5|2022-12-23 13:00:17|\n",
      "+---------+-------------+--------+---------+-------+-------------+----------+--------+-------------------+\n",
      "only showing top 20 rows\n",
      "\n"
     ]
    }
   ],
   "source": [
    "storedata_with_products_data.show()"
   ]
  },
  {
   "cell_type": "code",
   "execution_count": 25,
   "id": "f67acb06-5e5f-42ac-8667-26caa9081cfe",
   "metadata": {
    "tags": []
   },
   "outputs": [],
   "source": [
    "count_of_single_products=storedata_with_products_data.groupBy(\"Name\").count()"
   ]
  },
  {
   "cell_type": "code",
   "execution_count": 26,
   "id": "1c09cda0-0e29-439d-9bc2-0ecd13bb9f45",
   "metadata": {
    "tags": []
   },
   "outputs": [
    {
     "name": "stdout",
     "output_type": "stream",
     "text": [
      "+--------------+-----+\n",
      "|          Name|count|\n",
      "+--------------+-----+\n",
      "|    Red Chinos|    4|\n",
      "| Green t-shirt|    4|\n",
      "|   Red t-shirt|    6|\n",
      "|    Red Shorts|    7|\n",
      "|Black Sneakers|    5|\n",
      "|   Red Sandals|    6|\n",
      "|    Blue Jeans|    7|\n",
      "|   Black Jeans|    4|\n",
      "|  White Chinos|    3|\n",
      "| White Sandals|    3|\n",
      "|      Bracelet|    4|\n",
      "|      Earrings|    5|\n",
      "|  Green jacket|    9|\n",
      "|  Green Chinos|    6|\n",
      "|  Blue t-shirt|    6|\n",
      "| Green Sandals|    6|\n",
      "|  Black Shorts|    9|\n",
      "| White t-shirt|    8|\n",
      "|   Blue Shorts|    6|\n",
      "| Black t-shirt|    3|\n",
      "+--------------+-----+\n",
      "only showing top 20 rows\n",
      "\n"
     ]
    }
   ],
   "source": [
    "count_of_single_products.show()"
   ]
  },
  {
   "cell_type": "code",
   "execution_count": 27,
   "id": "ae3a237a-20dd-4901-ac53-6b4cba89ab69",
   "metadata": {
    "tags": []
   },
   "outputs": [],
   "source": [
    "most_bought_products=count_of_single_products.orderBy(desc(\"count\"))"
   ]
  },
  {
   "cell_type": "code",
   "execution_count": 28,
   "id": "f229e24d-972d-471d-923f-dcea51cbd51e",
   "metadata": {
    "tags": []
   },
   "outputs": [
    {
     "name": "stdout",
     "output_type": "stream",
     "text": [
      "+-------------+-----+\n",
      "|         Name|count|\n",
      "+-------------+-----+\n",
      "| White Shorts|   20|\n",
      "| Green jacket|    9|\n",
      "| Black Shorts|    9|\n",
      "|White t-shirt|    8|\n",
      "|   Blue Jeans|    7|\n",
      "+-------------+-----+\n",
      "only showing top 5 rows\n",
      "\n"
     ]
    }
   ],
   "source": [
    "most_bought_products.show(5)"
   ]
  },
  {
   "cell_type": "markdown",
   "id": "05fc247c-8367-4329-b85d-b243c7f5ad77",
   "metadata": {},
   "source": [
    "### Top 5 products that are most frequently bought across all stores are \"White Shorts, Green jacket, Black Shorts, White t-shirt & Blue Jeans\"."
   ]
  }
 ],
 "metadata": {
  "kernelspec": {
   "display_name": "Python 3 (ipykernel)",
   "language": "python",
   "name": "python3"
  },
  "language_info": {
   "codemirror_mode": {
    "name": "ipython",
    "version": 3
   },
   "file_extension": ".py",
   "mimetype": "text/x-python",
   "name": "python",
   "nbconvert_exporter": "python",
   "pygments_lexer": "ipython3",
   "version": "3.10.9"
  }
 },
 "nbformat": 4,
 "nbformat_minor": 5
}
