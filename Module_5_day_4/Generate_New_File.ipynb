{
 "cells": [
  {
   "cell_type": "code",
   "execution_count": 10,
   "id": "e875ea4e-9099-4a18-be7f-c0a87914eefe",
   "metadata": {
    "tags": []
   },
   "outputs": [],
   "source": [
    "import pandas as pd\n",
    "import numpy as np "
   ]
  },
  {
   "cell_type": "code",
   "execution_count": 11,
   "id": "edd9141b-af53-4efe-ba2d-4b2f97bd53b3",
   "metadata": {
    "tags": []
   },
   "outputs": [
    {
     "name": "stdout",
     "output_type": "stream",
     "text": [
      "<class 'pandas.core.frame.DataFrame'>\n",
      "RangeIndex: 100 entries, 0 to 99\n",
      "Data columns (total 13 columns):\n",
      " #   Column           Non-Null Count  Dtype \n",
      "---  ------           --------------  ----- \n",
      " 0   emp_id           100 non-null    int64 \n",
      " 1   first_name       100 non-null    object\n",
      " 2   middle_initial   100 non-null    object\n",
      " 3   last_name        100 non-null    object\n",
      " 4   email            100 non-null    object\n",
      " 5   date_of_birth    100 non-null    object\n",
      " 6   date_of_joining  100 non-null    object\n",
      " 7   ssn              100 non-null    object\n",
      " 8   phone_number     100 non-null    object\n",
      " 9   user_name        100 non-null    object\n",
      " 10  password         100 non-null    object\n",
      " 11  office_branch    100 non-null    object\n",
      " 12  earnings         100 non-null    int64 \n",
      "dtypes: int64(2), object(11)\n",
      "memory usage: 10.3+ KB\n",
      "<class 'pandas.core.frame.DataFrame'>\n",
      "RangeIndex: 100 entries, 0 to 99\n",
      "Data columns (total 13 columns):\n",
      " #   Column           Non-Null Count  Dtype \n",
      "---  ------           --------------  ----- \n",
      " 0   emp_id           100 non-null    int64 \n",
      " 1   first_name       100 non-null    object\n",
      " 2   middle_initial   100 non-null    object\n",
      " 3   last_name        100 non-null    object\n",
      " 4   email            100 non-null    object\n",
      " 5   date_of_birth    100 non-null    object\n",
      " 6   date_of_joining  100 non-null    object\n",
      " 7   ssn              100 non-null    object\n",
      " 8   phone_number     100 non-null    object\n",
      " 9   user_name        100 non-null    object\n",
      " 10  password         100 non-null    object\n",
      " 11  office_branch    100 non-null    object\n",
      " 12  earnings         100 non-null    int64 \n",
      "dtypes: int64(2), object(11)\n",
      "memory usage: 10.3+ KB\n",
      "<class 'pandas.core.frame.DataFrame'>\n",
      "RangeIndex: 100 entries, 0 to 99\n",
      "Data columns (total 13 columns):\n",
      " #   Column           Non-Null Count  Dtype \n",
      "---  ------           --------------  ----- \n",
      " 0   emp_id           100 non-null    int64 \n",
      " 1   first_name       100 non-null    object\n",
      " 2   middle_initial   100 non-null    object\n",
      " 3   last_name        100 non-null    object\n",
      " 4   email            100 non-null    object\n",
      " 5   date_of_birth    100 non-null    object\n",
      " 6   date_of_joining  100 non-null    object\n",
      " 7   ssn              100 non-null    object\n",
      " 8   phone_number     100 non-null    object\n",
      " 9   user_name        100 non-null    object\n",
      " 10  password         100 non-null    object\n",
      " 11  office_branch    100 non-null    object\n",
      " 12  earnings         100 non-null    int64 \n",
      "dtypes: int64(2), object(11)\n",
      "memory usage: 10.3+ KB\n",
      "<class 'pandas.core.frame.DataFrame'>\n",
      "RangeIndex: 100 entries, 0 to 99\n",
      "Data columns (total 13 columns):\n",
      " #   Column           Non-Null Count  Dtype \n",
      "---  ------           --------------  ----- \n",
      " 0   emp_id           100 non-null    int64 \n",
      " 1   first_name       100 non-null    object\n",
      " 2   middle_initial   100 non-null    object\n",
      " 3   last_name        100 non-null    object\n",
      " 4   email            100 non-null    object\n",
      " 5   date_of_birth    100 non-null    object\n",
      " 6   date_of_joining  100 non-null    object\n",
      " 7   ssn              100 non-null    object\n",
      " 8   phone_number     100 non-null    object\n",
      " 9   user_name        100 non-null    object\n",
      " 10  password         100 non-null    object\n",
      " 11  office_branch    100 non-null    object\n",
      " 12  earnings         100 non-null    int64 \n",
      "dtypes: int64(2), object(11)\n",
      "memory usage: 10.3+ KB\n"
     ]
    }
   ],
   "source": [
    "def create_random_values_for_earnings_period(date):\n",
    "    df = pd.read_parquet(\"data/output_data/employee_earnings/earnings_date=2022-02-10/employee_earnings.parquet\")\n",
    "    df.info()\n",
    "    random_values = np.random.uniform(3580, 7584, size=100)\n",
    "    df[\"earnings\"]=random_values\n",
    "    df[\"earnings\"]=df[\"earnings\"].astype(\"int64\")\n",
    "    df.info()\n",
    "    output_path=f\"data/output_data/employee_earnings/earnings_date={date}/employee_earnings.parquet\"\n",
    "    df.to_parquet(output_path,engine=\"pyarrow\")\n",
    "create_random_values_for_earnings_period(\"2022-02-15\")\n",
    "create_random_values_for_earnings_period(\"2022-02-16\")"
   ]
  },
  {
   "cell_type": "code",
   "execution_count": null,
   "id": "d187b2d9-1e94-4519-a6f4-38d3b30f3a88",
   "metadata": {},
   "outputs": [],
   "source": []
  }
 ],
 "metadata": {
  "kernelspec": {
   "display_name": "Python 3 (ipykernel)",
   "language": "python",
   "name": "python3"
  },
  "language_info": {
   "codemirror_mode": {
    "name": "ipython",
    "version": 3
   },
   "file_extension": ".py",
   "mimetype": "text/x-python",
   "name": "python",
   "nbconvert_exporter": "python",
   "pygments_lexer": "ipython3",
   "version": "3.10.9"
  }
 },
 "nbformat": 4,
 "nbformat_minor": 5
}
