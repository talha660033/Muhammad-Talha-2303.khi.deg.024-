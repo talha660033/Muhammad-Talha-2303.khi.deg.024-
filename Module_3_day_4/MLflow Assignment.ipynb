{
 "cells": [
  {
   "cell_type": "markdown",
   "id": "6505a7ad",
   "metadata": {},
   "source": [
    "## What is MLFlow and its Components\n",
    "\n",
    "MLFLow is an open source platform to manage the ML lifecycle, including experimentation, reproducibility, deployment, and a central model registry. MLFLow currently offers four components:\n"
   ]
  },
  {
   "cell_type": "markdown",
   "id": "5745f450",
   "metadata": {},
   "source": [
    "<img src=\"mlflow.png\">\n",
    "\n",
    "\n",
    "https://www.mlflow.org/"
   ]
  },
  {
   "cell_type": "markdown",
   "id": "6f44a8b9",
   "metadata": {},
   "source": [
    "_First thing first_\n",
    "### Create Conda environment"
   ]
  },
  {
   "cell_type": "markdown",
   "id": "90eb0ce0",
   "metadata": {},
   "source": [
    "##### run below commands in terminal but make sure conda is installed or use anaconda prompt which you will get as part of anaconda installation\n",
    "\n",
    "1. `virtualenv --python=/usr/bin/python3 mlops-assignment` \n",
    "it will create a conda env named envname and install python version 3.9 and a ipykernel inside this environment\n",
    "\n",
    "2. Activate the environment\n",
    "`source mlops-assignment/bin/activate`\n",
    "\n",
    "\n",
    "\n",
    "3. Now install all required dependencies to run this notebook\n",
    "\n",
    "* `pip install pandas`\n",
    "* `pip install numpy`\n",
    "* `pip install scikit-learn`\n",
    "* `pip install imblearn`\n",
    "* `pip install matplotlib`\n",
    "* `pip install mlflow`\n",
    "\n",
    "Now open the notebook using below command: (from the anaconda prompt inside conda environment)\n",
    "\n",
    "`jupyter notebook`\n"
   ]
  },
  {
   "cell_type": "markdown",
   "id": "5cf5a6b9",
   "metadata": {},
   "source": [
    "#### Make sure python is used from your newly created environment."
   ]
  },
  {
   "cell_type": "code",
   "execution_count": 10,
   "id": "9fd81db9",
   "metadata": {
    "tags": []
   },
   "outputs": [
    {
     "name": "stdout",
     "output_type": "stream",
     "text": [
      "/home/muhammadtalha/anaconda3/bin/python\n"
     ]
    }
   ],
   "source": [
    "import sys\n",
    "print(sys.executable)"
   ]
  },
  {
   "cell_type": "code",
   "execution_count": 11,
   "id": "3caf80a9",
   "metadata": {
    "tags": []
   },
   "outputs": [
    {
     "name": "stdout",
     "output_type": "stream",
     "text": [
      "Python 3.10.9\n"
     ]
    }
   ],
   "source": [
    "!python --version"
   ]
  },
  {
   "cell_type": "markdown",
   "id": "e090685d-7ac7-4ba4-a16d-726a2a0f3878",
   "metadata": {},
   "source": [
    "### Setting up MLFlow tracking server\n",
    "\n",
    "We also specify artifact root and backend store URI. This makes it possible to store models.\n",
    "\n",
    "After running this command tracking server will be accessible at `localhost:5010`"
   ]
  },
  {
   "cell_type": "code",
   "execution_count": 12,
   "id": "842d53fe-b98d-433e-9ca8-0c845e6fece4",
   "metadata": {
    "tags": []
   },
   "outputs": [],
   "source": [
    "%%bash --bg\n",
    "\n",
    "mlflow server --host 0.0.0.0 \\\n",
    "    --port 5010 \\\n",
    "    --backend-store-uri sqlite:///mlflow.db \\\n",
    "    --default-artifact-root ./mlruns"
   ]
  },
  {
   "cell_type": "code",
   "execution_count": 13,
   "id": "d9082625-1d5d-4011-a6ac-3e709db160b4",
   "metadata": {
    "tags": []
   },
   "outputs": [
    {
     "name": "stderr",
     "output_type": "stream",
     "text": [
      "Registered model 'sklearn_logistic_t' already exists. Creating a new version of this model...\n",
      "2023/05/04 10:28:17 INFO mlflow.tracking._model_registry.client: Waiting up to 300 seconds for model version to finish creation. Model name: sklearn_logistic_t, version 2\n"
     ]
    },
    {
     "name": "stdout",
     "output_type": "stream",
     "text": [
      "Run - Wine1 is logged to Experiment - basic_classifier\n"
     ]
    },
    {
     "name": "stderr",
     "output_type": "stream",
     "text": [
      "Created version '2' of model 'sklearn_logistic_t'.\n"
     ]
    }
   ],
   "source": [
    "%run -i 'train.py'"
   ]
  },
  {
   "cell_type": "markdown",
   "id": "ae5ff2b8",
   "metadata": {},
   "source": [
    "## Serving model\n",
    "\n",
    "Now that we trained our models we can go to *Models* page on MLFLow UI (http://localhost:5010/#/models).\n",
    "\n",
    "Click *sklearn_logistics_T* on this page, choose a model and move it to *Production* stage.\n",
    "\n",
    "The following cell will serve the model at localhost on port 5010."
   ]
  },
  {
   "cell_type": "code",
   "execution_count": 14,
   "id": "5f2a4b70-e992-4a4d-9932-0acef6f080cf",
   "metadata": {
    "tags": []
   },
   "outputs": [],
   "source": [
    "%%bash --bg\n",
    "source mlflow_env_vars.sh\n",
    "mlflow --version\n",
    "mlflow models serve -m models:/sklearn_logistic_t/Production -p 5010 --env-manager=conda \n"
   ]
  },
  {
   "cell_type": "code",
   "execution_count": 15,
   "id": "efb2b8d6-51a8-4df0-b6b6-89e05e2d478b",
   "metadata": {
    "tags": []
   },
   "outputs": [
    {
     "name": "stdout",
     "output_type": "stream",
     "text": [
      "7b30b99351104490a896fa3a6a215260\n"
     ]
    }
   ],
   "source": [
    "%%bash\n",
    "last_model_path=$(ls -tr mlruns/1/ | tail -1)\n",
    "echo $last_model_path\n",
    "\n"
   ]
  },
  {
   "cell_type": "markdown",
   "id": "aec13599-ac15-4c59-92df-98d984baf9df",
   "metadata": {},
   "source": [
    "# Loading the data for prediction"
   ]
  },
  {
   "cell_type": "code",
   "execution_count": 16,
   "id": "3a6be295-098c-4a11-ba3d-1252f5be7cde",
   "metadata": {
    "tags": []
   },
   "outputs": [],
   "source": [
    "from sklearn import datasets\n",
    "from sklearn.model_selection import train_test_split\n",
    "from sklearn.preprocessing import StandardScaler\n",
    "import pandas as pd\n",
    "import mlflow\n",
    "import subprocess\n",
    "\n",
    "\n",
    "# Loading data\n",
    "wine_dataset_load = datasets.load_wine()\n",
    "\n",
    "\n",
    "wine_x = wine_dataset_load.data\n",
    "wine_y = wine_dataset_load.target\n",
    "\n",
    "# training model\n",
    "X_train, X_test, y_train, y_test = train_test_split(wine_x, wine_y, test_size=0.2, stratify=wine_y, random_state=47)\n",
    "\n",
    "scaler = StandardScaler()\n",
    "X_train = scaler.fit_transform(X_train)\n",
    "X_test = scaler.transform(X_test)"
   ]
  },
  {
   "cell_type": "markdown",
   "id": "abf7adb6-ef13-4a0f-85a5-866fb439038d",
   "metadata": {},
   "source": [
    "# Prediction"
   ]
  },
  {
   "cell_type": "code",
   "execution_count": 17,
   "id": "7bbb6b98",
   "metadata": {
    "tags": []
   },
   "outputs": [
    {
     "data": {
      "text/plain": [
       "array([0, 0, 2, 1, 1, 1, 0, 0, 1, 2, 2, 1, 0, 0, 0, 2, 1, 2, 2, 2, 0, 1,\n",
       "       1, 1, 0, 1, 1, 1, 2, 1, 2, 0, 2, 1, 0, 0])"
      ]
     },
     "execution_count": 17,
     "metadata": {},
     "output_type": "execute_result"
    }
   ],
   "source": [
    "\n",
    "logged_model = 'runs:/' + subprocess.check_output(['ls', '-tr', 'mlruns/1/']).decode('utf-8').split()[-1] + '/model'\n",
    "\n",
    "# print(logged_model)\n",
    "# Load model as a PyFuncModel.\n",
    "loaded_model = mlflow.pyfunc.load_model(logged_model)\n",
    "\n",
    "# Predict on a Pandas DataFrame.\n",
    "\n",
    "loaded_model.predict(pd.DataFrame(X_test))\n",
    "#print(loaded_model)"
   ]
  },
  {
   "cell_type": "markdown",
   "id": "fb63bb36-8192-43b3-bc61-b98e4bb2e442",
   "metadata": {},
   "source": [
    "# Thank You "
   ]
  }
 ],
 "metadata": {
  "kernelspec": {
   "display_name": "Python 3 (ipykernel)",
   "language": "python",
   "name": "python3"
  },
  "language_info": {
   "codemirror_mode": {
    "name": "ipython",
    "version": 3
   },
   "file_extension": ".py",
   "mimetype": "text/x-python",
   "name": "python",
   "nbconvert_exporter": "python",
   "pygments_lexer": "ipython3",
   "version": "3.10.9"
  }
 },
 "nbformat": 4,
 "nbformat_minor": 5
}
