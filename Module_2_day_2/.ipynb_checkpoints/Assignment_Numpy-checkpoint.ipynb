{
 "cells": [
  {
   "cell_type": "code",
   "execution_count": 14,
   "id": "01ede18e-670c-4ee9-a67f-0879501779ff",
   "metadata": {
    "tags": []
   },
   "outputs": [
    {
     "name": "stdout",
     "output_type": "stream",
     "text": [
      "[[2 7 4 5]\n",
      " [5 5 2 9]\n",
      " [4 3 6 0]\n",
      " [4 9 1 2]\n",
      " [2 0 1 5]\n",
      " [9 8 8 7]]\n"
     ]
    }
   ],
   "source": [
    "import numpy as np\n",
    "matrix=np.random.randint(0,10,(6, 4))\n",
    "print(matrix)"
   ]
  },
  {
   "cell_type": "markdown",
   "id": "8135416e-5455-4419-96f2-21b20eedf3c6",
   "metadata": {},
   "source": [
    "## First Method \n",
    "### Easy to understand by a Layman"
   ]
  },
  {
   "cell_type": "code",
   "execution_count": 15,
   "id": "ff8e2f0e-6d70-4b13-9168-68f4b22245da",
   "metadata": {
    "tags": []
   },
   "outputs": [
    {
     "name": "stdout",
     "output_type": "stream",
     "text": [
      "[[ 2  7  4  5]\n",
      " [ 5  5  2  9]\n",
      " [ 4  3  6  0]\n",
      " [ 4  9  1  2]\n",
      " [ 6 10 10  5]\n",
      " [ 9 14  3 11]]\n"
     ]
    }
   ],
   "source": [
    "first_row=matrix[0,:]\n",
    "third_row=matrix[2,:]\n",
    "fifth_row = first_row+third_row\n",
    "second_row=matrix[1,:]\n",
    "fourth_row=matrix[3,:]\n",
    "sixth_row = second_row+fourth_row\n",
    "matrix[4]=fifth_row\n",
    "matrix[5]=sixth_row\n",
    "print(matrix)"
   ]
  },
  {
   "cell_type": "markdown",
   "id": "985eef1e-7799-4c7e-ac29-09237978f55c",
   "metadata": {},
   "source": [
    "## Second Method \n",
    "### Hard to understand by a Layman"
   ]
  },
  {
   "cell_type": "code",
   "execution_count": 16,
   "id": "d15d4abe-61d4-415d-958f-aaf1a3efafaf",
   "metadata": {
    "tags": []
   },
   "outputs": [
    {
     "name": "stdout",
     "output_type": "stream",
     "text": [
      "[[ 2  7  4  5]\n",
      " [ 5  5  2  9]\n",
      " [ 4  3  6  0]\n",
      " [ 4  9  1  2]\n",
      " [ 6 10 10  5]\n",
      " [ 9 14  3 11]]\n"
     ]
    }
   ],
   "source": [
    "matrix[4,:],matrix[5,:] = matrix[0,:] + matrix[2,:],matrix[1,:] + matrix[3,:]\n",
    "print(matrix)"
   ]
  },
  {
   "cell_type": "code",
   "execution_count": null,
   "id": "dc9851f1-ac9c-4a2f-958c-3ec4271b6a31",
   "metadata": {},
   "outputs": [],
   "source": []
  }
 ],
 "metadata": {
  "kernelspec": {
   "display_name": "Python 3 (ipykernel)",
   "language": "python",
   "name": "python3"
  },
  "language_info": {
   "codemirror_mode": {
    "name": "ipython",
    "version": 3
   },
   "file_extension": ".py",
   "mimetype": "text/x-python",
   "name": "python",
   "nbconvert_exporter": "python",
   "pygments_lexer": "ipython3",
   "version": "3.10.9"
  }
 },
 "nbformat": 4,
 "nbformat_minor": 5
}
