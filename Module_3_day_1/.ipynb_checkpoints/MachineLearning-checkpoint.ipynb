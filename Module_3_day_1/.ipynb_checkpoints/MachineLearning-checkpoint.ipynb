{
 "cells": [
  {
   "cell_type": "markdown",
   "id": "53e11028-1421-458b-86ae-e8a6617adcd8",
   "metadata": {},
   "source": [
    "#Implement a label encoder for categorical data\n",
    "using pure Python, Pandas and NumPy."
   ]
  },
  {
   "cell_type": "code",
   "execution_count": 8,
   "id": "8fe932fb-b305-4dbe-9388-9c888eca3e3b",
   "metadata": {
    "tags": []
   },
   "outputs": [],
   "source": [
    "import pandas as pd"
   ]
  },
  {
   "cell_type": "code",
   "execution_count": 9,
   "id": "25f28d4a-06a2-47c2-b2a7-eb0c14a8588b",
   "metadata": {
    "tags": []
   },
   "outputs": [],
   "source": [
    "df = pd.read_csv(\"Iris.csv\")"
   ]
  },
  {
   "cell_type": "code",
   "execution_count": 10,
   "id": "ff0f48d8-2f4f-492e-9f14-a44b864cb827",
   "metadata": {
    "tags": []
   },
   "outputs": [
    {
     "data": {
      "text/html": [
       "<div>\n",
       "<style scoped>\n",
       "    .dataframe tbody tr th:only-of-type {\n",
       "        vertical-align: middle;\n",
       "    }\n",
       "\n",
       "    .dataframe tbody tr th {\n",
       "        vertical-align: top;\n",
       "    }\n",
       "\n",
       "    .dataframe thead th {\n",
       "        text-align: right;\n",
       "    }\n",
       "</style>\n",
       "<table border=\"1\" class=\"dataframe\">\n",
       "  <thead>\n",
       "    <tr style=\"text-align: right;\">\n",
       "      <th></th>\n",
       "      <th>Id</th>\n",
       "      <th>SepalLengthCm</th>\n",
       "      <th>SepalWidthCm</th>\n",
       "      <th>PetalLengthCm</th>\n",
       "      <th>PetalWidthCm</th>\n",
       "      <th>Species</th>\n",
       "    </tr>\n",
       "  </thead>\n",
       "  <tbody>\n",
       "    <tr>\n",
       "      <th>0</th>\n",
       "      <td>1</td>\n",
       "      <td>5.1</td>\n",
       "      <td>3.5</td>\n",
       "      <td>1.4</td>\n",
       "      <td>0.2</td>\n",
       "      <td>Iris-setosa</td>\n",
       "    </tr>\n",
       "    <tr>\n",
       "      <th>1</th>\n",
       "      <td>2</td>\n",
       "      <td>4.9</td>\n",
       "      <td>3.0</td>\n",
       "      <td>1.4</td>\n",
       "      <td>0.2</td>\n",
       "      <td>Iris-setosa</td>\n",
       "    </tr>\n",
       "    <tr>\n",
       "      <th>2</th>\n",
       "      <td>3</td>\n",
       "      <td>4.7</td>\n",
       "      <td>3.2</td>\n",
       "      <td>1.3</td>\n",
       "      <td>0.2</td>\n",
       "      <td>Iris-setosa</td>\n",
       "    </tr>\n",
       "    <tr>\n",
       "      <th>3</th>\n",
       "      <td>4</td>\n",
       "      <td>4.6</td>\n",
       "      <td>3.1</td>\n",
       "      <td>1.5</td>\n",
       "      <td>0.2</td>\n",
       "      <td>Iris-setosa</td>\n",
       "    </tr>\n",
       "    <tr>\n",
       "      <th>4</th>\n",
       "      <td>5</td>\n",
       "      <td>5.0</td>\n",
       "      <td>3.6</td>\n",
       "      <td>1.4</td>\n",
       "      <td>0.2</td>\n",
       "      <td>Iris-setosa</td>\n",
       "    </tr>\n",
       "  </tbody>\n",
       "</table>\n",
       "</div>"
      ],
      "text/plain": [
       "   Id  SepalLengthCm  SepalWidthCm  PetalLengthCm  PetalWidthCm      Species\n",
       "0   1            5.1           3.5            1.4           0.2  Iris-setosa\n",
       "1   2            4.9           3.0            1.4           0.2  Iris-setosa\n",
       "2   3            4.7           3.2            1.3           0.2  Iris-setosa\n",
       "3   4            4.6           3.1            1.5           0.2  Iris-setosa\n",
       "4   5            5.0           3.6            1.4           0.2  Iris-setosa"
      ]
     },
     "execution_count": 10,
     "metadata": {},
     "output_type": "execute_result"
    }
   ],
   "source": [
    "df.head()"
   ]
  },
  {
   "cell_type": "code",
   "execution_count": 11,
   "id": "af088c28-42e7-4aa7-86d6-1e911f347bc7",
   "metadata": {
    "tags": []
   },
   "outputs": [],
   "source": [
    "categorical = df.select_dtypes(include=['object']).columns.tolist()\n"
   ]
  },
  {
   "cell_type": "code",
   "execution_count": 12,
   "id": "642be88b-7d53-422c-b623-d4c5dd3d1a55",
   "metadata": {
    "tags": []
   },
   "outputs": [],
   "source": [
    "def label_encode(df, columns):\n",
    "    \n",
    "    #taking the unique values from columns\n",
    "    \n",
    "    unique_value= df[columns].unique()\n",
    "    \n",
    "    #iterating the index and value from the unique values\n",
    "    \n",
    "    value_map = {value: i for i, value in enumerate(unique_value)}\n",
    "    \n",
    "    #creating new label for unique value \n",
    "    \n",
    "    new_list = [value_map[value] if value in value_map else value for value in df[columns]]\n",
    "    df[columns] = new_list\n",
    "    print(df)\n",
    "\n",
    "\n",
    "    "
   ]
  },
  {
   "cell_type": "code",
   "execution_count": 13,
   "id": "1976e115-099b-4485-8605-c237d79127c5",
   "metadata": {
    "tags": []
   },
   "outputs": [
    {
     "name": "stdout",
     "output_type": "stream",
     "text": [
      "      Id  SepalLengthCm  SepalWidthCm  PetalLengthCm  PetalWidthCm  Species\n",
      "0      1            5.1           3.5            1.4           0.2        0\n",
      "1      2            4.9           3.0            1.4           0.2        0\n",
      "2      3            4.7           3.2            1.3           0.2        0\n",
      "3      4            4.6           3.1            1.5           0.2        0\n",
      "4      5            5.0           3.6            1.4           0.2        0\n",
      "..   ...            ...           ...            ...           ...      ...\n",
      "145  146            6.7           3.0            5.2           2.3        2\n",
      "146  147            6.3           2.5            5.0           1.9        2\n",
      "147  148            6.5           3.0            5.2           2.0        2\n",
      "148  149            6.2           3.4            5.4           2.3        2\n",
      "149  150            5.9           3.0            5.1           1.8        2\n",
      "\n",
      "[150 rows x 6 columns]\n"
     ]
    }
   ],
   "source": [
    "label_encode(df, categorical[0])"
   ]
  },
  {
   "cell_type": "markdown",
   "id": "65c44ad9-e3e9-4ba3-8886-d165193e2905",
   "metadata": {},
   "source": [
    "Creating Dynamic Program which will take the Categorial Value and Use that Value "
   ]
  },
  {
   "cell_type": "markdown",
   "id": "0f7ca158-a560-4e15-acba-bd97f13891b6",
   "metadata": {},
   "source": [
    "Now Creating Function that will take dataframe and column will do label encoding as well as clean the data "
   ]
  },
  {
   "cell_type": "code",
   "execution_count": 14,
   "id": "105bd141-6d4c-4879-8802-4d4864f5e644",
   "metadata": {
    "tags": []
   },
   "outputs": [
    {
     "name": "stdout",
     "output_type": "stream",
     "text": [
      "   Id  SepalLengthCm  SepalWidthCm  PetalLengthCm  PetalWidthCm  Species\n",
      "0   1            5.1           3.5            1.4           0.2        0\n",
      "1   2            4.9           3.0            1.4           0.2        0\n",
      "2   3            4.7           3.2            1.3           0.2        0\n",
      "3   4            4.6           3.1            1.5           0.2        0\n",
      "4   5            5.0           3.6            1.4           0.2        0\n"
     ]
    }
   ],
   "source": [
    "import pandas as pd\n",
    "\n",
    "\n",
    "def label_encode(df, columns):\n",
    "    unique_values = df[columns].unique()\n",
    "    value_map = {value: i for i, value in enumerate(unique_values)}\n",
    "\n",
    "    new_list = [value_map[value] if value in value_map else value for value in df[columns]]\n",
    "    df[columns] = new_list\n",
    "    return df\n",
    "\n",
    "\n",
    "def clean_data(df):\n",
    "    # Drop any rows with missing values\n",
    "    df.dropna(inplace=True)\n",
    "\n",
    "    # Convert categorical data to numerical using label encoding\n",
    "    categorical_columns = df.select_dtypes(include=['object']).columns.tolist()\n",
    "    for col in categorical_columns:\n",
    "        df = label_encode(df, col)\n",
    "\n",
    "    return df\n",
    "\n",
    "\n",
    "if __name__ == '__main__':\n",
    "    data = pd.read_csv(\"Iris.csv\")\n",
    "    cleaned_data = clean_data(data)\n",
    "    print(cleaned_data.head())\n"
   ]
  },
  {
   "cell_type": "code",
   "execution_count": null,
   "id": "c049c3c3-ac24-4074-8fa7-80b5d2a8b73e",
   "metadata": {},
   "outputs": [],
   "source": []
  }
 ],
 "metadata": {
  "kernelspec": {
   "display_name": "Python 3 (ipykernel)",
   "language": "python",
   "name": "python3"
  },
  "language_info": {
   "codemirror_mode": {
    "name": "ipython",
    "version": 3
   },
   "file_extension": ".py",
   "mimetype": "text/x-python",
   "name": "python",
   "nbconvert_exporter": "python",
   "pygments_lexer": "ipython3",
   "version": "3.10.9"
  }
 },
 "nbformat": 4,
 "nbformat_minor": 5
}
